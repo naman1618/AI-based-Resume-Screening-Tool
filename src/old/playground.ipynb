{
 "cells": [
  {
   "cell_type": "code",
   "execution_count": 1,
   "metadata": {},
   "outputs": [],
   "source": [
    "file_path = \"../resumes/Andy_Lu_Resume__AI_%20(1).pdf\""
   ]
  },
  {
   "cell_type": "code",
   "execution_count": 2,
   "metadata": {},
   "outputs": [
    {
     "name": "stderr",
     "output_type": "stream",
     "text": [
      "/home/joseph/joyfuljobs/.venv/lib/python3.11/site-packages/tqdm/auto.py:21: TqdmWarning: IProgress not found. Please update jupyter and ipywidgets. See https://ipywidgets.readthedocs.io/en/stable/user_install.html\n",
      "  from .autonotebook import tqdm as notebook_tqdm\n"
     ]
    },
    {
     "name": "stdout",
     "output_type": "stream",
     "text": [
      "Generating markdown version of ../resumes/Andy_Lu_Resume__AI_%20(1).pdf...\n",
      "Could not find markdown file. Creating it and storing it in the file system for cache...\n",
      "Successfully generated a markdown from the provided document.\n",
      "\tMarkdown length: 3605\n",
      "\tPlain-text length: 3328\n",
      "Done. Took 10.60910666000018 seconds\n",
      "Getting the propositions...\n",
      "Could not find existing json propositions file. Invoking proposition agent to generate one...\n",
      "Generated 64 propositions\n",
      "Done. Took 14.837280306999673 seconds\n"
     ]
    },
    {
     "data": {
      "text/plain": [
       "[\"Andy Lu's phone number is 520-279-2170.\",\n",
       " \"Andy Lu's email is andylu@arizona.edu.\",\n",
       " \"Andy Lu's LinkedIn profile is linkedin.com/in/andyelu.\",\n",
       " \"Andy Lu's GitHub profile is github.com/andyelu.\",\n",
       " 'Andy Lu attended the University of Arizona.',\n",
       " 'Andy Lu achieved a GPA of 4.0 at the University of Arizona.',\n",
       " 'Andy Lu studied in Tucson, AZ.',\n",
       " 'Andy Lu pursued a Bachelor of Science in Computer Science.',\n",
       " 'Andy Lu attended the University of Arizona from August 2022 to May 2026.',\n",
       " 'Andy Lu worked as a Software Engineer Intern.',\n",
       " 'Andy Lu worked at Sion Power in Tucson, AZ.',\n",
       " 'Andy Lu worked at Sion Power from May 2023 to August 2023.',\n",
       " 'Andy Lu developed a data processing app with Python and Pandas.',\n",
       " \"Andy Lu's app parsed 10,000+ ASCII datasets for specific measurements.\",\n",
       " \"Andy Lu's app performed electrochemistry calculations.\",\n",
       " \"Andy Lu's app reduced a manual data retrieval process from 1 hour to seconds.\",\n",
       " \"Andy Lu implemented vast unit testing to verify the program's calculations.\",\n",
       " \"Andy Lu guaranteed the app's reliability for end-users.\",\n",
       " 'Andy Lu presented the app to a department comprising twelve scientists.',\n",
       " 'Andy Lu added features and updates based on feedback from twelve scientists.',\n",
       " 'Andy Lu adopted object-oriented design principles to enhance code extensibility.',\n",
       " 'Andy Lu facilitated future development efforts through object-oriented design.',\n",
       " 'Andy Lu designed and contributed to a migration strategy.',\n",
       " 'Andy Lu transitioned a Microsoft VBA-based app to Python.',\n",
       " 'Andy Lu laid the groundwork for enhanced code scalability and future maintainability.',\n",
       " 'Andy Lu worked as an Undergraduate Research Assistant.',\n",
       " 'Andy Lu was supervised by Dr. Eung-Joo Lee.',\n",
       " 'Andy Lu worked at the University of Arizona in Tucson, AZ.',\n",
       " 'Andy Lu started working as an Undergraduate Research Assistant in December 2023.',\n",
       " 'Andy Lu developed a full-stack app to address overcrowding at university recreational centers.',\n",
       " 'Andy Lu utilized a YOLOv5 object detection model with PyTorch.',\n",
       " 'Andy Lu analyzed live security camera footage to record human congestion levels.',\n",
       " 'Andy Lu engineered a REST API using Python and the Django REST framework.',\n",
       " 'Andy Lu logged recorded data to a MySQL database.',\n",
       " 'Andy Lu developed a regression model with scikit-learn.',\n",
       " \"Andy Lu's regression model predicted peak and off-peak times.\",\n",
       " 'Andy Lu trained the regression model on collected congestion data.',\n",
       " 'Andy Lu worked as a Computer Science Teaching Assistant.',\n",
       " 'Andy Lu worked at the University of Arizona in Tucson, AZ.',\n",
       " 'Andy Lu started working as a Computer Science Teaching Assistant in January 2024.',\n",
       " 'Andy Lu collaborated with a team of TAs and the professor.',\n",
       " 'Andy Lu supported 170+ students in a Software Development class.',\n",
       " 'Andy Lu utilized strong communication skills to break down complex coding topics.',\n",
       " 'Andy Lu significantly enhanced student engagement and comprehension.',\n",
       " 'Andy Lu conducted office hours to resolve student questions.',\n",
       " 'Andy Lu ensured effective support regarding assignments and content.',\n",
       " 'Andy Lu created an AI-Integrated Closet Security System.',\n",
       " 'Andy Lu used Python, Django, Arduino, ESP32, Raspberry Pi, and AWS S3 for the AI-Integrated Closet Security System.',\n",
       " 'Andy Lu engineered a light-activated security system using Raspberry Pi, Arduino, and an ESP32 cam.',\n",
       " 'Andy Lu leveraged Google Vision AI API for accurate human detection on images taken by the camera.',\n",
       " 'Andy Lu streamlined system communication and data management through a Django REST API.',\n",
       " 'Andy Lu leveraged AWS S3 for image storage.',\n",
       " 'Andy Lu used SQLite for timestamped event logging with S3 object URLs.',\n",
       " 'Andy Lu developed a Python-based email notification system for immediate alerts upon detection events.',\n",
       " 'Andy Lu created a Raspberry PI GPT Assistant.',\n",
       " 'Andy Lu used OpenAI GPT-3.5 Turbo API and Google Cloud Speech API for the Raspberry PI GPT Assistant.',\n",
       " \"Andy Lu engineered a Raspberry Pi-based personal assistant using OpenAI's GPT-3.5 Turbo API.\",\n",
       " 'Andy Lu implemented wake-word activation and vocal recognition.',\n",
       " 'Andy Lu leveraged the Google Cloud Speech API for seamless user engagement.',\n",
       " 'Andy Lu curated vocalized responses using the ElevenLabs Text-To-Speech API.',\n",
       " \"Andy Lu's technical skills include Python, Java, C#, and JavaScript.\",\n",
       " \"Andy Lu's technical skills include Django, Springboot, React, and Vanilla (HTML, CSS).\",\n",
       " \"Andy Lu's technical skills include Unity, Git, SQL, Postgres, Postman, Pandas, Linux, JUnit, Docker, and Amazon Web Services.\"]"
      ]
     },
     "execution_count": 2,
     "metadata": {},
     "output_type": "execute_result"
    }
   ],
   "source": [
    "from file_loader import FileLoader\n",
    "\n",
    "loader = FileLoader(verbose=True)\n",
    "output, md_hash, name = loader.load_pdf(file_path)\n",
    "output"
   ]
  },
  {
   "cell_type": "code",
   "execution_count": 3,
   "metadata": {},
   "outputs": [],
   "source": [
    "from agentic_splitter import AgenticSplitter\n",
    "\n",
    "splitter = AgenticSplitter(verbose=True)"
   ]
  },
  {
   "cell_type": "code",
   "execution_count": null,
   "metadata": {},
   "outputs": [],
   "source": [
    "splitter.load_chunks(md_hash)"
   ]
  },
  {
   "cell_type": "code",
   "execution_count": 4,
   "metadata": {},
   "outputs": [
    {
     "name": "stdout",
     "output_type": "stream",
     "text": [
      "Adding: 'Andy Lu's phone number is 520-279-2170.'\n",
      "Detected that this is the first chunk that will be added.\n",
      "Created new chunk (mkBdy3R0): Contact Information\n",
      "Adding: 'Andy Lu's email is andylu@arizona.edu.'\n",
      "Chunk found (mkBdy3R0), adding to Contact Information\n",
      "Adding: 'Andy Lu's LinkedIn profile is linkedin.com/in/andyelu.'\n",
      "Chunk found (mkBdy3R0), adding to Contact Information\n",
      "Adding: 'Andy Lu's GitHub profile is github.com/andyelu.'\n",
      "Chunk found (mkBdy3R0), adding to Contact Information\n",
      "Adding: 'Andy Lu attended the University of Arizona.'\n",
      "No chunk found\n",
      "Created new chunk (N6E0adrc): Educational Background\n",
      "Adding: 'Andy Lu achieved a GPA of 4.0 at the University of Arizona.'\n",
      "Chunk found (N6E0adrc), adding to Educational Background\n",
      "Adding: 'Andy Lu studied in Tucson, AZ.'\n",
      "Chunk found (N6E0adrc), adding to Educational Background\n",
      "Adding: 'Andy Lu pursued a Bachelor of Science in Computer Science.'\n",
      "Chunk found (N6E0adrc), adding to Educational Background\n",
      "Adding: 'Andy Lu attended the University of Arizona from August 2022 to May 2026.'\n",
      "Chunk found (N6E0adrc), adding to Educational Background\n",
      "Adding: 'Andy Lu worked as a Software Engineer Intern.'\n",
      "Chunk found (mkBdy3R0), adding to Contact Information\n",
      "Adding: 'Andy Lu worked at Sion Power in Tucson, AZ.'\n",
      "Chunk found (mkBdy3R0), adding to Contact Information and Work Experience\n",
      "Adding: 'Andy Lu worked at Sion Power from May 2023 to August 2023.'\n",
      "Chunk found (mkBdy3R0), adding to Work Experience and Contact Information\n",
      "Adding: 'Andy Lu developed a data processing app with Python and Pandas.'\n",
      "No chunk found\n",
      "Created new chunk (Z7d1v6g2): Projects\n",
      "Adding: 'Andy Lu's app parsed 10,000+ ASCII datasets for specific measurements.'\n",
      "Chunk found (Z7d1v6g2), adding to Projects\n",
      "Adding: 'Andy Lu's app performed electrochemistry calculations.'\n",
      "Chunk found (Z7d1v6g2), adding to Projects\n",
      "Adding: 'Andy Lu's app reduced a manual data retrieval process from 1 hour to seconds.'\n",
      "Chunk found (Z7d1v6g2), adding to Projects\n",
      "Adding: 'Andy Lu implemented vast unit testing to verify the program's calculations.'\n",
      "Chunk found (Z7d1v6g2), adding to Projects\n",
      "Adding: 'Andy Lu guaranteed the app's reliability for end-users.'\n",
      "Chunk found (mkBdy3R0), adding to Work Experience and Contact Information\n",
      "Adding: 'Andy Lu presented the app to a department comprising twelve scientists.'\n",
      "Chunk found (Z7d1v6g2), adding to Projects\n",
      "Adding: 'Andy Lu added features and updates based on feedback from twelve scientists.'\n",
      "Chunk found (mkBdy3R0), adding to Work Experience and Contact Information\n",
      "Adding: 'Andy Lu adopted object-oriented design principles to enhance code extensibility.'\n",
      "Chunk found (mkBdy3R0), adding to Work Experience and Contact Information\n",
      "Adding: 'Andy Lu facilitated future development efforts through object-oriented design.'\n",
      "Chunk found (mkBdy3R0), adding to Work Experience and Contact Information\n",
      "Adding: 'Andy Lu designed and contributed to a migration strategy.'\n",
      "Chunk found (mkBdy3R0), adding to Work Experience and Contact Information\n",
      "Adding: 'Andy Lu transitioned a Microsoft VBA-based app to Python.'\n",
      "Chunk found (Z7d1v6g2), adding to Projects\n",
      "Adding: 'Andy Lu laid the groundwork for enhanced code scalability and future maintainability.'\n",
      "Chunk found (mkBdy3R0), adding to Work Experience and Contact Information\n",
      "Adding: 'Andy Lu worked as an Undergraduate Research Assistant.'\n",
      "Chunk found (mkBdy3R0), adding to Work Experience and Contact Information\n",
      "Adding: 'Andy Lu was supervised by Dr. Eung-Joo Lee.'\n",
      "No chunk found\n",
      "Created new chunk (XAyZxMnP): Educational Background\n",
      "Adding: 'Andy Lu worked at the University of Arizona in Tucson, AZ.'\n",
      "Chunk found (mkBdy3R0), adding to Work Experience and Contact Information\n",
      "Adding: 'Andy Lu started working as an Undergraduate Research Assistant in December 2023.'\n",
      "Chunk found (mkBdy3R0), adding to Work Experience and Contact Information\n",
      "Adding: 'Andy Lu developed a full-stack app to address overcrowding at university recreational centers.'\n",
      "Chunk found (Z7d1v6g2), adding to Projects\n",
      "Adding: 'Andy Lu utilized a YOLOv5 object detection model with PyTorch.'\n",
      "Chunk found (Z7d1v6g2), adding to Projects\n",
      "Adding: 'Andy Lu analyzed live security camera footage to record human congestion levels.'\n",
      "Chunk found (Z7d1v6g2), adding to Projects\n",
      "Adding: 'Andy Lu engineered a REST API using Python and the Django REST framework.'\n",
      "Chunk found (Z7d1v6g2), adding to Projects\n",
      "Adding: 'Andy Lu logged recorded data to a MySQL database.'\n",
      "Chunk found (mkBdy3R0), adding to Work Experience and Contact Information\n",
      "Adding: 'Andy Lu developed a regression model with scikit-learn.'\n",
      "Chunk found (Z7d1v6g2), adding to Projects\n",
      "Adding: 'Andy Lu's regression model predicted peak and off-peak times.'\n",
      "Chunk found (Z7d1v6g2), adding to Projects\n",
      "Adding: 'Andy Lu trained the regression model on collected congestion data.'\n",
      "Chunk found (Z7d1v6g2), adding to Projects\n",
      "Adding: 'Andy Lu worked as a Computer Science Teaching Assistant.'\n",
      "Chunk found (mkBdy3R0), adding to Work Experience and Contact Information\n",
      "The proposition \"Andy Lu worked at the University of Arizona in Tucson, AZ.\" already exists and will not be added.\n",
      "Adding: 'Andy Lu started working as a Computer Science Teaching Assistant in January 2024.'\n",
      "Chunk found (mkBdy3R0), adding to Work Experience and Contact Information\n",
      "Adding: 'Andy Lu collaborated with a team of TAs and the professor.'\n",
      "Chunk found (XAyZxMnP), adding to Educational Background\n",
      "Adding: 'Andy Lu supported 170+ students in a Software Development class.'\n",
      "Chunk found (XAyZxMnP), adding to Team Leadership\n",
      "Adding: 'Andy Lu utilized strong communication skills to break down complex coding topics.'\n",
      "Chunk found (XAyZxMnP), adding to Work Experience\n",
      "Adding: 'Andy Lu significantly enhanced student engagement and comprehension.'\n",
      "Chunk found (XAyZxMnP), adding to Work Experience\n",
      "Adding: 'Andy Lu conducted office hours to resolve student questions.'\n",
      "Chunk found (XAyZxMnP), adding to Work Experience\n",
      "Adding: 'Andy Lu ensured effective support regarding assignments and content.'\n",
      "Chunk found (XAyZxMnP), adding to Work Experience\n",
      "Adding: 'Andy Lu created an AI-Integrated Closet Security System.'\n",
      "Chunk found (Z7d1v6g2), adding to Projects\n",
      "Adding: 'Andy Lu used Python, Django, Arduino, ESP32, Raspberry Pi, and AWS S3 for the AI-Integrated Closet Security System.'\n",
      "Chunk found (Z7d1v6g2), adding to Projects\n",
      "Adding: 'Andy Lu engineered a light-activated security system using Raspberry Pi, Arduino, and an ESP32 cam.'\n",
      "Chunk found (Z7d1v6g2), adding to Projects\n",
      "Adding: 'Andy Lu leveraged Google Vision AI API for accurate human detection on images taken by the camera.'\n",
      "Chunk found (Z7d1v6g2), adding to Projects\n",
      "Adding: 'Andy Lu streamlined system communication and data management through a Django REST API.'\n",
      "Chunk found (mkBdy3R0), adding to Work Experience\n",
      "Adding: 'Andy Lu leveraged AWS S3 for image storage.'\n",
      "Chunk found (Z7d1v6g2), adding to Projects\n",
      "Adding: 'Andy Lu used SQLite for timestamped event logging with S3 object URLs.'\n",
      "Chunk found (Z7d1v6g2), adding to Projects\n",
      "Adding: 'Andy Lu developed a Python-based email notification system for immediate alerts upon detection events.'\n",
      "Chunk found (Z7d1v6g2), adding to Projects\n",
      "Adding: 'Andy Lu created a Raspberry PI GPT Assistant.'\n",
      "Chunk found (Z7d1v6g2), adding to Projects\n",
      "Adding: 'Andy Lu used OpenAI GPT-3.5 Turbo API and Google Cloud Speech API for the Raspberry PI GPT Assistant.'\n",
      "Chunk found (Z7d1v6g2), adding to Projects\n",
      "Adding: 'Andy Lu engineered a Raspberry Pi-based personal assistant using OpenAI's GPT-3.5 Turbo API.'\n",
      "Chunk found (Z7d1v6g2), adding to Projects\n",
      "Adding: 'Andy Lu implemented wake-word activation and vocal recognition.'\n",
      "Chunk found (Z7d1v6g2), adding to Projects\n",
      "Adding: 'Andy Lu leveraged the Google Cloud Speech API for seamless user engagement.'\n",
      "Chunk found (Z7d1v6g2), adding to Projects\n",
      "Adding: 'Andy Lu curated vocalized responses using the ElevenLabs Text-To-Speech API.'\n",
      "Chunk found (Z7d1v6g2), adding to Projects\n",
      "Adding: 'Andy Lu's technical skills include Python, Java, C#, and JavaScript.'\n",
      "No chunk found\n",
      "Created new chunk (g7RuA5Fx): Technical Skills\n",
      "Adding: 'Andy Lu's technical skills include Django, Springboot, React, and Vanilla (HTML, CSS).'\n",
      "Chunk found (g7RuA5Fx), adding to Technical Skills\n",
      "Adding: 'Andy Lu's technical skills include Unity, Git, SQL, Postgres, Postman, Pandas, Linux, JUnit, Docker, and Amazon Web Services.'\n",
      "Chunk found (g7RuA5Fx), adding to Technical Skills\n"
     ]
    }
   ],
   "source": [
    "for proposition in output:\n",
    "    splitter.add_proposition(proposition, name)"
   ]
  },
  {
   "cell_type": "code",
   "execution_count": 5,
   "metadata": {},
   "outputs": [
    {
     "name": "stdout",
     "output_type": "stream",
     "text": [
      "Educational Background\n",
      "Projects\n",
      "Teaching and Mentoring Experience\n",
      "Technical Skills\n",
      "Work Experience\n"
     ]
    }
   ],
   "source": [
    "splitter.reorganize_chunks()"
   ]
  },
  {
   "cell_type": "code",
   "execution_count": 6,
   "metadata": {},
   "outputs": [
    {
     "name": "stdout",
     "output_type": "stream",
     "text": [
      "Persisted chunks at .cache/b19faeffaf431bf2e372777e8b63dfd562f5d853e40c104729d076ddba0c1a74-chunks.json\n"
     ]
    }
   ],
   "source": [
    "splitter.persist(md_hash)"
   ]
  },
  {
   "cell_type": "code",
   "execution_count": null,
   "metadata": {},
   "outputs": [],
   "source": [
    "[(splitter._chunks[x].title, splitter._chunks[x].propositions) for x in splitter._chunks]"
   ]
  }
 ],
 "metadata": {
  "kernelspec": {
   "display_name": ".venv",
   "language": "python",
   "name": "python3"
  },
  "language_info": {
   "codemirror_mode": {
    "name": "ipython",
    "version": 3
   },
   "file_extension": ".py",
   "mimetype": "text/x-python",
   "name": "python",
   "nbconvert_exporter": "python",
   "pygments_lexer": "ipython3",
   "version": "3.11.4"
  }
 },
 "nbformat": 4,
 "nbformat_minor": 2
}
