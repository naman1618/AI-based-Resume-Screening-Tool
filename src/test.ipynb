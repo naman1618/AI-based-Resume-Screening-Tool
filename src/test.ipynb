{
 "cells": [
  {
   "cell_type": "code",
   "execution_count": 1,
   "metadata": {},
   "outputs": [],
   "source": [
    "pdf_path = '../resumes/Riyanshi%20Bohra%20-%20Resume.pdf'"
   ]
  },
  {
   "cell_type": "code",
   "execution_count": null,
   "metadata": {},
   "outputs": [],
   "source": [
    "import pymupdf4llm\n",
    "import pymupdf\n",
    "from IPython.display import Markdown, display\n",
    "\n",
    "file = pymupdf.open(pdf_path)\n",
    "\n",
    "md_text = pymupdf4llm.to_markdown(\n",
    "    file  \n",
    ")\n",
    "\n",
    "display(Markdown(md_text))"
   ]
  },
  {
   "cell_type": "code",
   "execution_count": null,
   "metadata": {},
   "outputs": [],
   "source": [
    "from doctr.models import ocr_predictor, from_hub\n",
    "from doctr.io import DocumentFile\n",
    "\n",
    "docs = DocumentFile.from_pdf(pdf_path)\n",
    "model = from_hub('Felix92/doctr-torch-parseq-multilingual-v1')\n",
    "predictor =  ocr_predictor(\n",
    "    det_arch='fast_base',\n",
    "    reco_arch=model,\n",
    "    pretrained=True,\n",
    "    assume_straight_pages=True,\n",
    "    detect_orientation=False,\n",
    "    \n",
    ")\n",
    "\n",
    "result = predictor(docs)\n",
    "result.show()"
   ]
  },
  {
   "cell_type": "code",
   "execution_count": null,
   "metadata": {},
   "outputs": [],
   "source": [
    "text = result.render()\n",
    "\n",
    "print(text)"
   ]
  },
  {
   "cell_type": "code",
   "execution_count": null,
   "metadata": {},
   "outputs": [],
   "source": [
    "from pypdf import PdfReader\n",
    "\n",
    "with open(pdf_path, 'rb') as f:\n",
    "    reader = PdfReader(f)\n",
    "    content = \"\\n\".join([x.extract_text() for x in reader.pages])\n",
    "\n",
    "content"
   ]
  },
  {
   "cell_type": "code",
   "execution_count": 2,
   "metadata": {},
   "outputs": [
    {
     "name": "stderr",
     "output_type": "stream",
     "text": [
      "/home/joseph/joyfuljobs/.venv/lib/python3.11/site-packages/tqdm/auto.py:21: TqdmWarning: IProgress not found. Please update jupyter and ipywidgets. See https://ipywidgets.readthedocs.io/en/stable/user_install.html\n",
      "  from .autonotebook import tqdm as notebook_tqdm\n",
      "Fetching 4 files: 100%|██████████| 4/4 [00:00<00:00, 85163.53it/s]\n",
      "/home/joseph/joyfuljobs/.venv/lib/python3.11/site-packages/transformers/convert_slow_tokenizer.py:562: UserWarning: The sentencepiece tokenizer that you are converting to a fast tokenizer uses the byte fallback option which is not implemented in the fast tokenizers. In practice this means that the fast version of the tokenizer can produce unknown tokens whereas the sentencepiece version would have converted these unknown tokens into a sequence of byte tokens matching the original piece of text.\n",
      "  warnings.warn(\n",
      "Asking to truncate to max_length but no maximum length is provided and the model has no predefined maximum length. Default to no truncation.\n"
     ]
    },
    {
     "data": {
      "text/plain": [
       "[\"Riyanshi Bohra's email is riyanshibohraa@gmail.com.\",\n",
       " \"Riyanshi Bohra's phone number is 352-757-8079.\",\n",
       " \"Riyanshi Bohra's LinkedIn profile can be found at www.linkedin.com/in/riyanshi-bohra.\",\n",
       " 'Riyanshi Bohra is pursuing a Master of Science (M.S.) in Data Science.',\n",
       " \"Riyanshi Bohra's M.S. program is from August 2023 to May 2025.\",\n",
       " 'Riyanshi Bohra is studying at the University of Arizona, School of Information.',\n",
       " \"Riyanshi Bohra's GPA for the M.S. program is 3.7 out of 4.0.\",\n",
       " 'The University of Arizona is located in Tucson, Arizona.',\n",
       " \"Riyanshi Bohra's relevant coursework includes Data Mining, Data Visualization, Machine Learning, Natural Language Processing (NLP), and Artificial Intelligence.\",\n",
       " 'Riyanshi Bohra completed a Senior Certificate Program in Computer Science & Engineering.',\n",
       " \"Riyanshi Bohra's Senior Certificate Program was from January 2023 to May 2023.\",\n",
       " 'Riyanshi Bohra attended the University of Florida, Herbert Wertheim College of Engineering for the Senior Certificate Program.',\n",
       " \"Riyanshi Bohra's GPA for the Senior Certificate Program is 4.0 out of 4.0.\",\n",
       " 'The University of Florida is located in Gainesville, Florida.',\n",
       " 'Riyanshi Bohra holds a Bachelor of Technology (B. Tech) in Information Technology with a Minor in Data Science.',\n",
       " \"Riyanshi Bohra's B. Tech program was from July 2019 to May 2023.\",\n",
       " 'Riyanshi Bohra studied at Manipal University Jaipur.',\n",
       " \"Riyanshi Bohra's CGPA for the B. Tech program is 3.8 out of 4.0.\",\n",
       " 'Riyanshi Bohra was listed on the Dean’s List of Excellence.',\n",
       " 'Manipal University Jaipur is located in Jaipur, India.',\n",
       " \"Riyanshi Bohra's relevant coursework includes Deep Learning, Database Management System, Data Warehousing, Probabilities & Statistics, and Data Structures.\",\n",
       " 'Riyanshi Bohra worked as a Research Professional at the University of Arizona, Mel and Enid Zuckerman College of Public Health.',\n",
       " \"Riyanshi Bohra's position as a Research Professional started in January 2023 and is ongoing.\",\n",
       " 'The University of Arizona, Mel and Enid Zuckerman College of Public Health is located in Tucson, Arizona.',\n",
       " 'Riyanshi Bohra conducted a literature review of over 10 relevant studies.',\n",
       " 'Riyanshi Bohra analyzed data in Excel.',\n",
       " 'Riyanshi Bohra generated 15 regression plots in Python.',\n",
       " 'Riyanshi Bohra identified key gaps in PM monitoring.',\n",
       " 'Riyanshi Bohra streamlined the assessment of existing air quality research.',\n",
       " 'Riyanshi Bohra preprocessed and statistically tested over 300 field and lab samples.',\n",
       " 'Riyanshi Bohra compared Airbeam sensor data with high-cost monitors.',\n",
       " 'Riyanshi Bohra verified accuracy within 2 µg/m³ for PM2.5 and PM10 to meet human health standards.',\n",
       " 'Riyanshi Bohra designed dashboards and visual plots in Tableau.',\n",
       " 'Riyanshi Bohra presented analysis results from Airbeam and high-cost sensors.',\n",
       " 'Riyanshi Bohra provided data-driven insights crucial for strategic environmental health decisions.',\n",
       " 'Riyanshi Bohra worked as a Data Science Intern in the Pharmaceutical Manufacturing Division at PricewaterhouseCoopers (PwC).',\n",
       " \"Riyanshi Bohra's internship at PwC was from July 2022 to September 2022.\",\n",
       " 'PricewaterhouseCoopers (PwC) is located in Mumbai, India.',\n",
       " 'Riyanshi Bohra collaborated with the drug manufacturing unit and stakeholders to streamline production.',\n",
       " 'Riyanshi Bohra leveraged regression analysis and automated ETL pipelines.',\n",
       " 'Riyanshi Bohra reduced cycle time by 45%.',\n",
       " 'Riyanshi Bohra upgraded the Quality by Design (QbD) framework.',\n",
       " 'Riyanshi Bohra used historical data to refine process parameters.',\n",
       " 'Riyanshi Bohra improved tablet consistency.',\n",
       " \"Riyanshi Bohra's work resulted in a 20% increase in yield and annual cost savings of $50,000.\",\n",
       " 'Riyanshi Bohra coordinated with cross-functional teams to analyze KPIs.',\n",
       " 'Riyanshi Bohra crafted dashboards in PowerBI and Looker.',\n",
       " 'Riyanshi Bohra utilized Python to enhance data analysis.',\n",
       " \"Riyanshi Bohra's strategies cut manual labor by 75%, saving around 350 man-hours weekly.\",\n",
       " \"Riyanshi Bohra's programming languages and frameworks skills include Python (Scikit-learn, NumPy, Pandas, Matplotlib, Seaborn), R (ggplot2, shiny), JavaScript, TensorFlow, Keras, PyTorch, and Apache Spark.\",\n",
       " \"Riyanshi Bohra's database and cloud technologies skills include SQL (MySQL, PostgreSQL), NoSQL, Amazon Web Services (AWS), and Microsoft Azure.\",\n",
       " \"Riyanshi Bohra's data science tools and technologies skills include Microsoft Power BI, Tableau, LLMs, Hypothesis Testing, GIS, A/B Testing, Experimental Design, Databricks, and Git.\",\n",
       " 'Riyanshi Bohra worked on the SafeDrive AI project: Real-time Distracted Driving Detection with AI-powered Facial Analysis.',\n",
       " \"Riyanshi Bohra's role in the SafeDrive AI project was as an AI Researcher at the University of Arizona.\",\n",
       " 'The SafeDrive AI project was from January 2023 to May 2023.',\n",
       " \"Riyanshi Bohra's GitHub repository for SafeDrive AI can be found at https://github.com/riyanshibohra/SafeDrive-AI.\",\n",
       " 'Riyanshi Bohra deployed a Convolutional Neural Network (CNN) using TensorFlow and Keras.',\n",
       " 'Riyanshi Bohra achieved 95% accuracy in detecting and classifying driver distractions.',\n",
       " 'Riyanshi Bohra boosted predictive analytics for real-time safety.',\n",
       " 'Riyanshi Bohra leveraged predictive analytics on a dataset of over 10,000 instances.',\n",
       " 'Riyanshi Bohra enhanced model accuracy by 20% through optimized data segmentation and feature engineering.',\n",
       " 'Riyanshi Bohra implemented a Python-based alert mechanism using predicate logic.',\n",
       " 'Riyanshi Bohra reduced driver distraction incidents by 30% through proactive, real-time behavioral intervention.',\n",
       " 'Riyanshi Bohra worked on the Biometric Predictors of Emotional States project: A Deep Learning Approach.',\n",
       " \"Riyanshi Bohra's GitHub repository for Biometric Predictors of Emotional States can be found at https://github.com/riyanshibohra/Biometric-Predictors-of-Emotional-States.\",\n",
       " 'The Biometric Predictors of Emotional States project was from October 2023 to December 2023.',\n",
       " 'Riyanshi Bohra engineered a GPT-2 based Large Language Model for mood description generation.',\n",
       " 'Riyanshi Bohra applied BERT tokenization and embeddings.',\n",
       " 'Riyanshi Bohra improved text accuracy by 35% on over 20,000 generated text samples.',\n",
       " 'Riyanshi Bohra assessed over 10,000 real-world biometric samples from wearables.',\n",
       " 'Riyanshi Bohra correlated physical data with mood states.',\n",
       " 'Riyanshi Bohra performed multi-class classification using neural network models.',\n",
       " 'Riyanshi Bohra achieved 92% accuracy in mood classification.',\n",
       " 'Riyanshi Bohra implemented TensorFlow and Scikit-Learn on synthetic and real-world datasets.',\n",
       " 'Riyanshi Bohra uncovered 10% higher accuracy with synthetic data.',\n",
       " 'Riyanshi Bohra gained mood variability insights from real-world data for emotional health monitoring.']"
      ]
     },
     "execution_count": 2,
     "metadata": {},
     "output_type": "execute_result"
    }
   ],
   "source": [
    "from file_loader import FileLoader\n",
    "\n",
    "loader = FileLoader()\n",
    "propositions = loader.load_pdf(pdf_path)\n",
    "propositions"
   ]
  },
  {
   "cell_type": "code",
   "execution_count": 5,
   "metadata": {},
   "outputs": [
    {
     "name": "stderr",
     "output_type": "stream",
     "text": [
      "Fetching 4 files: 100%|██████████| 4/4 [00:00<00:00, 41734.37it/s]\n",
      "/home/joseph/joyfuljobs/.venv/lib/python3.11/site-packages/transformers/convert_slow_tokenizer.py:562: UserWarning: The sentencepiece tokenizer that you are converting to a fast tokenizer uses the byte fallback option which is not implemented in the fast tokenizers. In practice this means that the fast version of the tokenizer can produce unknown tokens whereas the sentencepiece version would have converted these unknown tokens into a sequence of byte tokens matching the original piece of text.\n",
      "  warnings.warn(\n",
      "Asking to truncate to max_length but no maximum length is provided and the model has no predefined maximum length. Default to no truncation.\n"
     ]
    },
    {
     "name": "stdout",
     "output_type": "stream",
     "text": [
      "\"Riyanshi Bohra is pursuing a Master of Science (M.S.) in Data Science.\" => \"Master of Science (M.S.)\"\n",
      "\"Riyanshi Bohra is pursuing a Master of Science (M.S.) in Data Science.\" => \"Master of Science (M.S.) in Data Science\"\n",
      "\"Riyanshi Bohra's M.S. program is from August 2023 to May 2025.\" => \"M.S.\"\n",
      "\"Riyanshi Bohra's GPA for the M.S. program is 3.7 out of 4.0.\" => \"M.S.\"\n",
      "\"Riyanshi Bohra completed a Senior Certificate Program in Computer Science & Engineering.\" => \"Senior Certificate Program\"\n",
      "\"Riyanshi Bohra's Senior Certificate Program was from January 2023 to May 2023.\" => \"Senior Certificate Program\"\n",
      "\"Riyanshi Bohra attended the University of Florida, Herbert Wertheim College of Engineering for the Senior Certificate Program.\" => \"Senior Certificate Program\"\n",
      "\"Riyanshi Bohra's GPA for the Senior Certificate Program is 4.0 out of 4.0.\" => \"Senior Certificate Program\"\n",
      "\"Riyanshi Bohra holds a Bachelor of Technology (B. Tech) in Information Technology with a Minor in Data Science.\" => \"Bachelor of Technology\"\n",
      "\"Riyanshi Bohra holds a Bachelor of Technology (B. Tech) in Information Technology with a Minor in Data Science.\" => \"Bachelor of Technology\"\n",
      "\"Riyanshi Bohra's B. Tech program was from July 2019 to May 2023.\" => \"B. Tech\"\n",
      "\"Riyanshi Bohra's CGPA for the B. Tech program is 3.8 out of 4.0.\" => \"B. Tech\"\n"
     ]
    },
    {
     "data": {
      "text/plain": [
       "{'email': 'riyanshibohraa@gmail.com',\n",
       " 'name': 'Riyanshi Bohra',\n",
       " 'phone number': '352-757-8079',\n",
       " 'college_degree': 'Master of Science (M.S.) in Data Science, Master of Science (M.S.), B. Tech, Senior Certificate Program, M.S, Bachelor of Technology',\n",
       " 'university/college': 'University Of Florida, Mel And Enid Zuckerman College Of Public Health, Herbert Werim College Of Engineering, Manipal University Jaipur, University Of Arizona'}"
      ]
     },
     "execution_count": 5,
     "metadata": {},
     "output_type": "execute_result"
    }
   ],
   "source": [
    "from gliner import GLiNER\n",
    "from langchain_openai import ChatOpenAI\n",
    "from langchain_core.prompts import ChatPromptTemplate\n",
    "from prompts import STRAIGHT_FORWARD_PROMPT\n",
    "import re\n",
    "\n",
    "ner = GLiNER.from_pretrained(\"urchade/gliner_large-v2.1\")\n",
    "labels = [\"name\", \"phone number\", \"university/college\", \"college_degree\"]\n",
    "llm = ChatOpenAI(model=\"gpt-4o\", temperature=0.5)\n",
    "chain = ChatPromptTemplate.from_messages([(\"system\", STRAIGHT_FORWARD_PROMPT ), (\"human\", \"{proposition}\\n\\nWhat is the full name of the college degree only? (ex: Bachelor of Science in Data Science, Master of Science in Aerospace Engineering, B.A. in Psychology, Master's in English, Master of Fine Arts, Bachelor of Arts in Music)\")]) | llm \n",
    "\n",
    "def extract_person_metadata(propositions: list[str]) -> str:\n",
    "    data: dict[str, list[set[str]]] = {\n",
    "        \"email\": [set(), set()],\n",
    "    }\n",
    "    for proposition in propositions:\n",
    "        found_email = re.search(\"(?:[a-z0-9!#$%&'*+/=?^_`{|}~-]+(?:\\\\.[a-z0-9!#$%&'*+/=?^_`{|}~-]+)*|\\\"(?:[\\\\x01-\\\\x08\\\\x0b\\\\x0c\\\\x0e-\\\\x1f\\\\x21\\\\x23-\\\\x5b\\\\x5d-\\\\x7f]|\\\\\\\\[\\\\x01-\\\\x09\\\\x0b\\\\x0c\\\\x0e-\\\\x7f])*\\\")@(?:(?:[a-z0-9](?:[a-z0-9-]*[a-z0-9])?\\\\.)+[a-z0-9](?:[a-z0-9-]*[a-z0-9])?|\\\\[(?:(?:25[0-5]|2[0-4][0-9]|[01]?[0-9][0-9]?)\\\\.){3}(?:25[0-5]|2[0-4][0-9]|[01]?[0-9][0-9]?|[a-z0-9-]*[a-z0-9]:(?:[\\\\x01-\\\\x08\\\\x0b\\\\x0c\\\\x0e-\\\\x1f\\\\x21-\\\\x5a\\\\x53-\\\\x7f]|\\\\\\\\[\\\\x01-\\\\x09\\\\x0b\\\\x0c\\\\x0e-\\\\x7f])+)\\\\])\", proposition.lower())\n",
    "        if found_email is not None:\n",
    "            data[\"email\"][1].add(found_email.group(0))\n",
    "        entities = ner.predict_entities(proposition, labels, threshold=0.5)\n",
    "        for entity in entities:\n",
    "            key, value = entity[\"label\"], entity[\"text\"]\n",
    "            if key not in data:\n",
    "                data[key] = [set(), set()]\n",
    "\n",
    "            match key:\n",
    "                case \"university/college\":\n",
    "                    value = value.lower()\n",
    "                    if \"college\" in value or \"university\" in value:\n",
    "                        data[key][1].add(value.replace(\"the\", \"\").strip().title())\n",
    "                case \"college_degree\":\n",
    "                    value = value.lower()\n",
    "                    if value not in data[key][1]:\n",
    "                        data[key][0].add(proposition)\n",
    "                        answer = chain.invoke({ \"proposition\": proposition }).content\n",
    "                        if answer != \"None\":\n",
    "                            print(f\"\\\"{proposition}\\\" => \\\"{answer}\\\"\")\n",
    "                            data[key][1].add(answer)\n",
    "                case _:\n",
    "                    data[key][1].add(value)\n",
    "    for key in data:\n",
    "        data[key] = \", \".join([x.rstrip('.') for x in data[key][1]])\n",
    "    return data\n",
    "\n",
    "extract_person_metadata(propositions)"
   ]
  },
  {
   "cell_type": "code",
   "execution_count": null,
   "metadata": {},
   "outputs": [],
   "source": [
    "# from gliner import GLiNER\n",
    "\n",
    "# ner = GLiNER.from_pretrained(\"urchade/gliner_large-v2.1\")\n",
    "\n",
    "# labels = [\"name\"]\n",
    "\n",
    "# entities = ner.predict_entities(, labels, threshold=0.1)\n",
    "\n",
    "# for entity in entities:\n",
    "#     print(entity[\"label\"], \"=>\", entity[\"text\"])\n",
    "    "
   ]
  },
  {
   "cell_type": "code",
   "execution_count": null,
   "metadata": {},
   "outputs": [],
   "source": []
  }
 ],
 "metadata": {
  "kernelspec": {
   "display_name": ".venv",
   "language": "python",
   "name": "python3"
  },
  "language_info": {
   "codemirror_mode": {
    "name": "ipython",
    "version": 3
   },
   "file_extension": ".py",
   "mimetype": "text/x-python",
   "name": "python",
   "nbconvert_exporter": "python",
   "pygments_lexer": "ipython3",
   "version": "3.11.4"
  }
 },
 "nbformat": 4,
 "nbformat_minor": 2
}
